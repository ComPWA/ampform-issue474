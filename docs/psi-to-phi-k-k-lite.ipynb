{
 "cells": [
  {
   "cell_type": "markdown",
   "metadata": {},
   "source": [
    "# Investigation of Breit–Wigner behavior"
   ]
  },
  {
   "cell_type": "code",
   "execution_count": null,
   "metadata": {},
   "outputs": [],
   "source": [
    "%pip install -q ampform ipympl matplotlib tensorwaves zarr~=2.0"
   ]
  },
  {
   "cell_type": "code",
   "execution_count": null,
   "metadata": {
    "mystnb": {
     "code_prompt_show": "Import Python libraries"
    },
    "tags": [
     "hide-cell"
    ]
   },
   "outputs": [],
   "source": [
    "%config InlineBackend.figure_formats = ['svg']\n",
    "%matplotlib widget"
   ]
  },
  {
   "cell_type": "code",
   "execution_count": null,
   "metadata": {
    "jupyter": {
     "source_hidden": true
    },
    "mystnb": {
     "code_prompt_show": "Import Python libraries"
    },
    "tags": [
     "hide-cell"
    ]
   },
   "outputs": [],
   "source": [
    "import warnings\n",
    "\n",
    "import ampform\n",
    "import ipywidgets as w\n",
    "import matplotlib.pyplot as plt\n",
    "import numpy as np\n",
    "import qrules\n",
    "import sympy as sp\n",
    "import zarr\n",
    "from ampform.dynamics import phasespace\n",
    "from ampform.dynamics.builder import RelativisticBreitWignerBuilder\n",
    "from ampform.io import improve_latex_rendering\n",
    "from ampform.sympy import cached\n",
    "from IPython.display import display\n",
    "from tensorwaves.function.sympy import create_parametrized_function\n",
    "\n",
    "warnings.filterwarnings(\n",
    "    \"ignore\",\n",
    "    message=\".*All-NaN slice encountered.*\",\n",
    "    category=RuntimeWarning,\n",
    ")\n",
    "improve_latex_rendering()"
   ]
  },
  {
   "cell_type": "markdown",
   "metadata": {
    "jp-MarkdownHeadingCollapsed": true
   },
   "source": [
    "## Generate transitions"
   ]
  },
  {
   "cell_type": "code",
   "execution_count": null,
   "metadata": {},
   "outputs": [],
   "source": [
    "reaction = qrules.generate_transitions(\n",
    "    initial_state=(\"psi(2S)\", [-1, +1]),\n",
    "    final_state=[\"phi(1020)\", \"K+\", \"K-\"],\n",
    "    allowed_intermediate_particles=[\"f(0)(980)\"],\n",
    "    allowed_interaction_types=[\"strong\"],\n",
    "    formalism=\"canonical-helicity\",\n",
    ")"
   ]
  },
  {
   "cell_type": "code",
   "execution_count": null,
   "metadata": {},
   "outputs": [],
   "source": [
    "(phi,) = reaction.get_intermediate_particles()\n",
    "phi"
   ]
  },
  {
   "cell_type": "markdown",
   "metadata": {},
   "source": [
    "## Build model"
   ]
  },
  {
   "cell_type": "code",
   "execution_count": null,
   "metadata": {},
   "outputs": [],
   "source": [
    "model_builder = ampform.get_builder(reaction)\n",
    "model_builder.config.scalar_initial_state_mass = True\n",
    "model_builder.config.stable_final_state_ids = [0, 1, 2]\n",
    "bw_builder = RelativisticBreitWignerBuilder(\n",
    "    energy_dependent_width=True,\n",
    "    form_factor=True,\n",
    "    phsp_factor=phasespace.PhaseSpaceFactor,  # or: PhaseSpaceFactorSWave\n",
    ")\n",
    "for name in reaction.get_intermediate_particles().names:\n",
    "    model_builder.dynamics.assign(name, bw_builder)\n",
    "model = model_builder.formulate()"
   ]
  },
  {
   "cell_type": "markdown",
   "metadata": {
    "jp-MarkdownHeadingCollapsed": true
   },
   "source": [
    "## Load phase space"
   ]
  },
  {
   "cell_type": "code",
   "execution_count": null,
   "metadata": {},
   "outputs": [],
   "source": [
    "with zarr.storage.ZipStore(\"phsp.zarr.zip\", mode=\"r\") as store:\n",
    "    group = zarr.open_group(store, mode=\"r\")\n",
    "    phsp = {k: v[:] for k, v in group.arrays()}\n",
    "phsp"
   ]
  },
  {
   "cell_type": "markdown",
   "metadata": {
    "jp-MarkdownHeadingCollapsed": true
   },
   "source": [
    "## Create numerical functions"
   ]
  },
  {
   "cell_type": "code",
   "execution_count": null,
   "metadata": {},
   "outputs": [],
   "source": [
    "fixed_parameters = {\n",
    "    s: v\n",
    "    for s, v in model.parameter_defaults.items()\n",
    "    if not s.name.startswith((\"m_{\", R\"\\Gamma_{\"))\n",
    "}\n",
    "fixed_parameters"
   ]
  },
  {
   "cell_type": "code",
   "execution_count": null,
   "metadata": {},
   "outputs": [],
   "source": [
    "full_intensity_expr = cached.unfold(model)\n",
    "substituted_intensity_expr = cached.xreplace(full_intensity_expr, fixed_parameters)"
   ]
  },
  {
   "cell_type": "code",
   "execution_count": null,
   "metadata": {},
   "outputs": [],
   "source": [
    "amplitude_expr, *_ = model.amplitudes.values()\n",
    "assert isinstance(amplitude_expr, sp.Add)\n",
    "amplitude_expr = amplitude_expr.args[0]\n",
    "amplitude_expr.doit()"
   ]
  },
  {
   "cell_type": "code",
   "execution_count": null,
   "metadata": {},
   "outputs": [],
   "source": [
    "substituted_amplitude_expr = amplitude_expr.xreplace(fixed_parameters).doit()\n",
    "substituted_amplitude_expr = substituted_amplitude_expr.xreplace({\n",
    "    s: 0 for s in amplitude_expr.free_symbols if s.name.startswith(\"phi\")\n",
    "})\n",
    "substituted_amplitude_expr = substituted_amplitude_expr.xreplace({\n",
    "    s: sp.pi / 2 for s in amplitude_expr.free_symbols if s.name.startswith(\"theta\")\n",
    "})\n",
    "substituted_amplitude_expr"
   ]
  },
  {
   "cell_type": "code",
   "execution_count": null,
   "metadata": {},
   "outputs": [],
   "source": [
    "remaining_parameters = {\n",
    "    k: v\n",
    "    for k, v in model.parameter_defaults.items()\n",
    "    if k in substituted_intensity_expr.free_symbols\n",
    "}\n",
    "remaining_parameters"
   ]
  },
  {
   "cell_type": "code",
   "execution_count": null,
   "metadata": {},
   "outputs": [],
   "source": [
    "amplitude_func = create_parametrized_function(\n",
    "    expression=substituted_amplitude_expr,\n",
    "    parameters=remaining_parameters,\n",
    "    backend=\"numpy\",\n",
    ")\n",
    "intensity_func = create_parametrized_function(\n",
    "    expression=substituted_intensity_expr,\n",
    "    parameters=remaining_parameters,\n",
    "    backend=\"numpy\",\n",
    ")"
   ]
  },
  {
   "cell_type": "markdown",
   "metadata": {},
   "source": [
    "## Visualize"
   ]
  },
  {
   "cell_type": "code",
   "execution_count": null,
   "metadata": {},
   "outputs": [],
   "source": [
    "key = \"m_12\"\n",
    "phsp[key].min(), phsp[key].max()"
   ]
  },
  {
   "cell_type": "code",
   "execution_count": null,
   "metadata": {},
   "outputs": [],
   "source": [
    "epsilon = 1e-8\n",
    "domain = {key: np.linspace(0.8, 2.9, num=200) + epsilon * 1j}\n",
    "phsp[key] = phsp[key].real + epsilon * 1j"
   ]
  },
  {
   "cell_type": "code",
   "execution_count": null,
   "metadata": {
    "jupyter": {
     "source_hidden": true
    }
   },
   "outputs": [],
   "source": [
    "sliders = {\n",
    "    key: w.FloatSlider(description=f\"${key}$\", min=0, max=3.0, step=0.01, value=value)\n",
    "    for key, value in intensity_func.parameters.items()\n",
    "}\n",
    "ui = w.VBox(list(sliders.values()))"
   ]
  },
  {
   "cell_type": "code",
   "execution_count": null,
   "metadata": {
    "jupyter": {
     "source_hidden": true
    }
   },
   "outputs": [],
   "source": [
    "def update_plot(**parameters: float) -> None:\n",
    "    global LINES\n",
    "    amplitude_func.update_parameters(parameters)\n",
    "    intensity_func.update_parameters(parameters)\n",
    "    intensities = intensity_func(phsp)\n",
    "    amplitudes = amplitude_func(domain)\n",
    "    bin_values, bin_edges = np.histogram(\n",
    "        phsp[key].real,\n",
    "        bins=100,\n",
    "        density=True,\n",
    "        weights=intensities,\n",
    "    )\n",
    "    bin_values_phsp, _ = np.histogram(\n",
    "        phsp[key].real,\n",
    "        bins=bin_edges,\n",
    "        density=True,\n",
    "    )\n",
    "    bin_centers = (bin_edges[1:] + bin_edges[:-1]) / 2\n",
    "    bin_width = (bin_edges[1:] - bin_edges[:-1]).mean()\n",
    "    x_values = domain[key].real\n",
    "    y_values = amplitudes.real**2 + amplitudes.imag**2\n",
    "    y_values = y_values / np.nansum(y_values) / bin_width\n",
    "    if LINES is None:\n",
    "        LINES = [\n",
    "            ax.plot(x_values, y_values, label=\"Dynamics lineshape\")[0],\n",
    "            ax.step(bin_centers, bin_values, label=\"Intensity\")[0],\n",
    "            ax.step(\n",
    "                bin_centers,\n",
    "                bin_values_phsp,\n",
    "                c=\"black\",\n",
    "                ls=\"dotted\",\n",
    "                label=\"Phase space\",\n",
    "            )[0],\n",
    "        ]\n",
    "    else:\n",
    "        LINES[0].set_ydata(y_values)\n",
    "        LINES[1].set_ydata(bin_values)\n",
    "        LINES[2].set_ydata(bin_values_phsp)\n",
    "    y_max = np.nanmax([\n",
    "        np.nanmax(y_values),\n",
    "        np.nanmax(bin_values),\n",
    "        np.nanmax(bin_values_phsp),\n",
    "    ])\n",
    "    ax.set_ylim(x_values.min(), x_values.max())\n",
    "    ax.set_ylim(0, 1.1 * y_max)\n",
    "    fig.canvas.draw_idle()\n",
    "\n",
    "\n",
    "LINES = None\n",
    "fig, ax = plt.subplots()\n",
    "fig.canvas.toolbar_visible = False\n",
    "fig.canvas.header_visible = False\n",
    "fig.canvas.footer_visible = False\n",
    "ax.set_xlabel(\"$M(K^+K^-)$\")\n",
    "ax.set_ylabel(\"Intensity (a.u.)\")\n",
    "output = w.interactive_output(update_plot, controls=sliders)\n",
    "fig.legend(loc=\"upper right\")\n",
    "fig.tight_layout()\n",
    "display(output, ui)"
   ]
  },
  {
   "cell_type": "code",
   "execution_count": null,
   "metadata": {},
   "outputs": [],
   "source": [
    "substituted_amplitude_expr"
   ]
  }
 ],
 "metadata": {
  "colab": {
   "toc_visible": true
  },
  "kernelspec": {
   "display_name": "Python 3 (ipykernel)",
   "language": "python",
   "name": "python3"
  },
  "language_info": {
   "codemirror_mode": {
    "name": "ipython",
    "version": 3
   },
   "file_extension": ".py",
   "mimetype": "text/x-python",
   "name": "python",
   "nbconvert_exporter": "python",
   "pygments_lexer": "ipython3",
   "version": "3.12.10"
  }
 },
 "nbformat": 4,
 "nbformat_minor": 4
}
